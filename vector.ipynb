{
 "cells": [
  {
   "cell_type": "code",
   "execution_count": 2,
   "metadata": {
    "collapsed": false
   },
   "outputs": [
    {
     "data": {
      "text/plain": [
       "([1, 3], [2, -3])"
      ]
     },
     "execution_count": 2,
     "metadata": {},
     "output_type": "execute_result"
    }
   ],
   "source": [
    "v_1=[1,3]\n",
    "v_2=[2,-3]\n",
    "v_1,v_2"
   ]
  },
  {
   "cell_type": "code",
   "execution_count": 3,
   "metadata": {
    "collapsed": false
   },
   "outputs": [
    {
     "data": {
      "text/plain": [
       "[1, 3, 2, -3]"
      ]
     },
     "execution_count": 3,
     "metadata": {},
     "output_type": "execute_result"
    }
   ],
   "source": [
    "v_1+v_2"
   ]
  },
  {
   "cell_type": "code",
   "execution_count": 9,
   "metadata": {
    "collapsed": true
   },
   "outputs": [],
   "source": [
    "def my_add(vector_1,vector_2):\n",
    "    vector_3=[0,0]\n",
    "    vector_3[0]=vector_1[0]+vector_2[0]\n",
    "    vector_3[1]=vector_1[1]+vector_2[1]\n",
    "    return vector_3\n",
    "\n",
    "def my_add_1(vec_1,vec_2):\n",
    "    s=len(vec_1)\n",
    "    result_vec=[]\n",
    "    \n",
    "    for i in range (s):\n",
    "        temp=vec_1[i]+vec_2[i]\n",
    "        result_vec.append(temp)\n",
    "        \n",
    "    return result_vec"
   ]
  },
  {
   "cell_type": "code",
   "execution_count": 20,
   "metadata": {
    "collapsed": false
   },
   "outputs": [],
   "source": [
    "def my_center(vec_1,vec_2):\n",
    "    s=len(vec_1)\n",
    "    result_vec=[]\n",
    "    \n",
    "    for i in range (s):\n",
    "        temp=(vec_1[i]+vec_2[i])/2\n",
    "        result_vec.append(temp)\n",
    "        \n",
    "    return result_vec"
   ]
  },
  {
   "cell_type": "code",
   "execution_count": 22,
   "metadata": {
    "collapsed": false
   },
   "outputs": [
    {
     "data": {
      "text/plain": [
       "[-0.5, 0.0, 3.5]"
      ]
     },
     "execution_count": 22,
     "metadata": {},
     "output_type": "execute_result"
    }
   ],
   "source": [
    "v_1=[1,3,1]\n",
    "v_2=[-2,-3,6]\n",
    "my_center(v_1,v_2)"
   ]
  },
  {
   "cell_type": "code",
   "execution_count": 24,
   "metadata": {
    "collapsed": true
   },
   "outputs": [],
   "source": [
    "def my_distance(v_1,v_2):\n",
    "    s=len(v_1)\n",
    "    t=0\n",
    "    \n",
    "    for i in range(s):\n",
    "        t=t+(v_1[i]-v_2[i])**2\n",
    "        \n",
    "    return t**0.5"
   ]
  },
  {
   "cell_type": "code",
   "execution_count": 25,
   "metadata": {
    "collapsed": false
   },
   "outputs": [
    {
     "data": {
      "text/plain": [
       "5.0"
      ]
     },
     "execution_count": 25,
     "metadata": {},
     "output_type": "execute_result"
    }
   ],
   "source": [
    "vector_1=[0,4]\n",
    "vector_2=[3,0]\n",
    "my_distance(vector_1,vector_2)"
   ]
  },
  {
   "cell_type": "code",
   "execution_count": 12,
   "metadata": {
    "collapsed": true
   },
   "outputs": [],
   "source": [
    "import random"
   ]
  },
  {
   "cell_type": "code",
   "execution_count": 19,
   "metadata": {
    "collapsed": false
   },
   "outputs": [
    {
     "data": {
      "text/plain": [
       "[[7, 3], [3, -10], [-2, 4], [0, -10], [-2, -6]]"
      ]
     },
     "execution_count": 19,
     "metadata": {},
     "output_type": "execute_result"
    }
   ],
   "source": [
    "def my_create_vectors(m=5,n=2):\n",
    "    #m,n=10,3\n",
    "    my_vec=[]\n",
    "    for i in range(m):\n",
    "            my_vec.append([])\n",
    "            for j in range(n):\n",
    "                t=random.randint(-10,10)\n",
    "                my_vec[i].append(t)\n",
    "                #pass\n",
    "    return my_vec\n",
    "my_create_vectors()"
   ]
  },
  {
   "cell_type": "code",
   "execution_count": null,
   "metadata": {
    "collapsed": true
   },
   "outputs": [],
   "source": []
  }
 ],
 "metadata": {
  "anaconda-cloud": {},
  "kernelspec": {
   "display_name": "Python [default]",
   "language": "python",
   "name": "python3"
  },
  "language_info": {
   "codemirror_mode": {
    "name": "ipython",
    "version": 3
   },
   "file_extension": ".py",
   "mimetype": "text/x-python",
   "name": "python",
   "nbconvert_exporter": "python",
   "pygments_lexer": "ipython3",
   "version": "3.5.2"
  }
 },
 "nbformat": 4,
 "nbformat_minor": 1
}
